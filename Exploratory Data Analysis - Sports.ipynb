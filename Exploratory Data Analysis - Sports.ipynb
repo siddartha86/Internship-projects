{
 "cells": [
  {
   "cell_type": "markdown",
   "metadata": {},
   "source": [
    "# Exploratory Data Analysis - Sports \n",
    "\n",
    "### Name: K Siddartha D Shetty\n",
    " \n",
    "Exploratory data analysis (EDA) is used to analyze and investigate data sets and summarize their main characterstics,often with help of data visualization methods.The primary goal of EDA is to maximize the analyst's insight into a data set and into the underlying structure of a data set.\n",
    "\n",
    "In this task i will perform ‘Exploratory Data Analysis’ on dataset ‘Indian Premier League’. The data contains information of all matches played between ipl season 2008 till ipl season 2019.\n",
    "\n",
    "As a sport's analyst my job is to find out the most successful team,find out the most successful players,factors contributing to win or loss of a team etc...."
   ]
  },
  {
   "cell_type": "code",
   "execution_count": 1,
   "metadata": {},
   "outputs": [
    {
     "name": "stderr",
     "output_type": "stream",
     "text": [
      "UsageError: unrecognized arguments: #importing all the necessary libraries\n"
     ]
    }
   ],
   "source": [
    "import pandas as pd\n",
    "import seaborn as sns\n",
    "import numpy as np\n",
    "import matplotlib.pyplot as plt\n",
    "%matplotlib inline                        #importing all the necessary libraries"
   ]
  },
  {
   "cell_type": "code",
   "execution_count": 2,
   "metadata": {},
   "outputs": [],
   "source": [
    "ipl_data = pd.read_csv('matches.csv')"
   ]
  },
  {
   "cell_type": "code",
   "execution_count": 3,
   "metadata": {},
   "outputs": [
    {
     "data": {
      "text/html": [
       "<div>\n",
       "<style scoped>\n",
       "    .dataframe tbody tr th:only-of-type {\n",
       "        vertical-align: middle;\n",
       "    }\n",
       "\n",
       "    .dataframe tbody tr th {\n",
       "        vertical-align: top;\n",
       "    }\n",
       "\n",
       "    .dataframe thead th {\n",
       "        text-align: right;\n",
       "    }\n",
       "</style>\n",
       "<table border=\"1\" class=\"dataframe\">\n",
       "  <thead>\n",
       "    <tr style=\"text-align: right;\">\n",
       "      <th></th>\n",
       "      <th>id</th>\n",
       "      <th>season</th>\n",
       "      <th>city</th>\n",
       "      <th>date</th>\n",
       "      <th>team1</th>\n",
       "      <th>team2</th>\n",
       "      <th>toss_winner</th>\n",
       "      <th>toss_decision</th>\n",
       "      <th>result</th>\n",
       "      <th>dl_applied</th>\n",
       "      <th>winner</th>\n",
       "      <th>win_by_runs</th>\n",
       "      <th>win_by_wickets</th>\n",
       "      <th>player_of_match</th>\n",
       "      <th>venue</th>\n",
       "      <th>umpire1</th>\n",
       "      <th>umpire2</th>\n",
       "      <th>umpire3</th>\n",
       "    </tr>\n",
       "  </thead>\n",
       "  <tbody>\n",
       "    <tr>\n",
       "      <td>0</td>\n",
       "      <td>1</td>\n",
       "      <td>2017</td>\n",
       "      <td>Hyderabad</td>\n",
       "      <td>2017-04-05</td>\n",
       "      <td>Sunrisers Hyderabad</td>\n",
       "      <td>Royal Challengers Bangalore</td>\n",
       "      <td>Royal Challengers Bangalore</td>\n",
       "      <td>field</td>\n",
       "      <td>normal</td>\n",
       "      <td>0</td>\n",
       "      <td>Sunrisers Hyderabad</td>\n",
       "      <td>35</td>\n",
       "      <td>0</td>\n",
       "      <td>Yuvraj Singh</td>\n",
       "      <td>Rajiv Gandhi International Stadium, Uppal</td>\n",
       "      <td>AY Dandekar</td>\n",
       "      <td>NJ Llong</td>\n",
       "      <td>NaN</td>\n",
       "    </tr>\n",
       "    <tr>\n",
       "      <td>1</td>\n",
       "      <td>2</td>\n",
       "      <td>2017</td>\n",
       "      <td>Pune</td>\n",
       "      <td>2017-04-06</td>\n",
       "      <td>Mumbai Indians</td>\n",
       "      <td>Rising Pune Supergiant</td>\n",
       "      <td>Rising Pune Supergiant</td>\n",
       "      <td>field</td>\n",
       "      <td>normal</td>\n",
       "      <td>0</td>\n",
       "      <td>Rising Pune Supergiant</td>\n",
       "      <td>0</td>\n",
       "      <td>7</td>\n",
       "      <td>SPD Smith</td>\n",
       "      <td>Maharashtra Cricket Association Stadium</td>\n",
       "      <td>A Nand Kishore</td>\n",
       "      <td>S Ravi</td>\n",
       "      <td>NaN</td>\n",
       "    </tr>\n",
       "    <tr>\n",
       "      <td>2</td>\n",
       "      <td>3</td>\n",
       "      <td>2017</td>\n",
       "      <td>Rajkot</td>\n",
       "      <td>2017-04-07</td>\n",
       "      <td>Gujarat Lions</td>\n",
       "      <td>Kolkata Knight Riders</td>\n",
       "      <td>Kolkata Knight Riders</td>\n",
       "      <td>field</td>\n",
       "      <td>normal</td>\n",
       "      <td>0</td>\n",
       "      <td>Kolkata Knight Riders</td>\n",
       "      <td>0</td>\n",
       "      <td>10</td>\n",
       "      <td>CA Lynn</td>\n",
       "      <td>Saurashtra Cricket Association Stadium</td>\n",
       "      <td>Nitin Menon</td>\n",
       "      <td>CK Nandan</td>\n",
       "      <td>NaN</td>\n",
       "    </tr>\n",
       "    <tr>\n",
       "      <td>3</td>\n",
       "      <td>4</td>\n",
       "      <td>2017</td>\n",
       "      <td>Indore</td>\n",
       "      <td>2017-04-08</td>\n",
       "      <td>Rising Pune Supergiant</td>\n",
       "      <td>Kings XI Punjab</td>\n",
       "      <td>Kings XI Punjab</td>\n",
       "      <td>field</td>\n",
       "      <td>normal</td>\n",
       "      <td>0</td>\n",
       "      <td>Kings XI Punjab</td>\n",
       "      <td>0</td>\n",
       "      <td>6</td>\n",
       "      <td>GJ Maxwell</td>\n",
       "      <td>Holkar Cricket Stadium</td>\n",
       "      <td>AK Chaudhary</td>\n",
       "      <td>C Shamshuddin</td>\n",
       "      <td>NaN</td>\n",
       "    </tr>\n",
       "    <tr>\n",
       "      <td>4</td>\n",
       "      <td>5</td>\n",
       "      <td>2017</td>\n",
       "      <td>Bangalore</td>\n",
       "      <td>2017-04-08</td>\n",
       "      <td>Royal Challengers Bangalore</td>\n",
       "      <td>Delhi Daredevils</td>\n",
       "      <td>Royal Challengers Bangalore</td>\n",
       "      <td>bat</td>\n",
       "      <td>normal</td>\n",
       "      <td>0</td>\n",
       "      <td>Royal Challengers Bangalore</td>\n",
       "      <td>15</td>\n",
       "      <td>0</td>\n",
       "      <td>KM Jadhav</td>\n",
       "      <td>M Chinnaswamy Stadium</td>\n",
       "      <td>NaN</td>\n",
       "      <td>NaN</td>\n",
       "      <td>NaN</td>\n",
       "    </tr>\n",
       "  </tbody>\n",
       "</table>\n",
       "</div>"
      ],
      "text/plain": [
       "   id  season       city        date                        team1  \\\n",
       "0   1    2017  Hyderabad  2017-04-05          Sunrisers Hyderabad   \n",
       "1   2    2017       Pune  2017-04-06               Mumbai Indians   \n",
       "2   3    2017     Rajkot  2017-04-07                Gujarat Lions   \n",
       "3   4    2017     Indore  2017-04-08       Rising Pune Supergiant   \n",
       "4   5    2017  Bangalore  2017-04-08  Royal Challengers Bangalore   \n",
       "\n",
       "                         team2                  toss_winner toss_decision  \\\n",
       "0  Royal Challengers Bangalore  Royal Challengers Bangalore         field   \n",
       "1       Rising Pune Supergiant       Rising Pune Supergiant         field   \n",
       "2        Kolkata Knight Riders        Kolkata Knight Riders         field   \n",
       "3              Kings XI Punjab              Kings XI Punjab         field   \n",
       "4             Delhi Daredevils  Royal Challengers Bangalore           bat   \n",
       "\n",
       "   result  dl_applied                       winner  win_by_runs  \\\n",
       "0  normal           0          Sunrisers Hyderabad           35   \n",
       "1  normal           0       Rising Pune Supergiant            0   \n",
       "2  normal           0        Kolkata Knight Riders            0   \n",
       "3  normal           0              Kings XI Punjab            0   \n",
       "4  normal           0  Royal Challengers Bangalore           15   \n",
       "\n",
       "   win_by_wickets player_of_match                                      venue  \\\n",
       "0               0    Yuvraj Singh  Rajiv Gandhi International Stadium, Uppal   \n",
       "1               7       SPD Smith    Maharashtra Cricket Association Stadium   \n",
       "2              10         CA Lynn     Saurashtra Cricket Association Stadium   \n",
       "3               6      GJ Maxwell                     Holkar Cricket Stadium   \n",
       "4               0       KM Jadhav                      M Chinnaswamy Stadium   \n",
       "\n",
       "          umpire1        umpire2 umpire3  \n",
       "0     AY Dandekar       NJ Llong     NaN  \n",
       "1  A Nand Kishore         S Ravi     NaN  \n",
       "2     Nitin Menon      CK Nandan     NaN  \n",
       "3    AK Chaudhary  C Shamshuddin     NaN  \n",
       "4             NaN            NaN     NaN  "
      ]
     },
     "execution_count": 3,
     "metadata": {},
     "output_type": "execute_result"
    }
   ],
   "source": [
    "ipl_data.head()"
   ]
  },
  {
   "cell_type": "code",
   "execution_count": 4,
   "metadata": {},
   "outputs": [
    {
     "name": "stdout",
     "output_type": "stream",
     "text": [
      "<class 'pandas.core.frame.DataFrame'>\n",
      "RangeIndex: 756 entries, 0 to 755\n",
      "Data columns (total 18 columns):\n",
      "id                 756 non-null int64\n",
      "season             756 non-null int64\n",
      "city               749 non-null object\n",
      "date               756 non-null object\n",
      "team1              756 non-null object\n",
      "team2              756 non-null object\n",
      "toss_winner        756 non-null object\n",
      "toss_decision      756 non-null object\n",
      "result             756 non-null object\n",
      "dl_applied         756 non-null int64\n",
      "winner             752 non-null object\n",
      "win_by_runs        756 non-null int64\n",
      "win_by_wickets     756 non-null int64\n",
      "player_of_match    752 non-null object\n",
      "venue              756 non-null object\n",
      "umpire1            754 non-null object\n",
      "umpire2            754 non-null object\n",
      "umpire3            119 non-null object\n",
      "dtypes: int64(5), object(13)\n",
      "memory usage: 106.4+ KB\n"
     ]
    }
   ],
   "source": [
    "ipl_data.info()"
   ]
  },
  {
   "cell_type": "markdown",
   "metadata": {},
   "source": [
    "### data cleaning\n",
    "\n",
    "Here it is important to remove unecessary data and retain only the important ones. We can take the help of heat maps to visualize the missing data."
   ]
  },
  {
   "cell_type": "code",
   "execution_count": 5,
   "metadata": {},
   "outputs": [
    {
     "data": {
      "text/plain": [
       "<matplotlib.axes._subplots.AxesSubplot at 0x1a517ecc988>"
      ]
     },
     "execution_count": 5,
     "metadata": {},
     "output_type": "execute_result"
    },
    {
     "data": {
      "image/png": "[encoded data removed]",
      "text/plain": [
       "<Figure size 432x288 with 1 Axes>"
      ]
     },
     "metadata": {
      "needs_background": "light"
     },
     "output_type": "display_data"
    }
   ],
   "source": [
    "sns.heatmap(ipl_data.isnull(),yticklabels=False,cbar=False,cmap='viridis')"
   ]
  },
  {
   "cell_type": "markdown",
   "metadata": {},
   "source": [
    "We observe that there are lot of missing data in umpire3 column.That the reason it would be wise to remove this column using an inbuilt function drop."
   ]
  },
  {
   "cell_type": "code",
   "execution_count": 6,
   "metadata": {},
   "outputs": [],
   "source": [
    "ipl_data.drop('umpire3',axis=1,inplace=True)"
   ]
  },
  {
   "cell_type": "code",
   "execution_count": 7,
   "metadata": {},
   "outputs": [
    {
     "data": {
      "text/plain": [
       "<matplotlib.axes._subplots.AxesSubplot at 0x1a519fae748>"
      ]
     },
     "execution_count": 7,
     "metadata": {},
     "output_type": "execute_result"
    },
    {
     "data": {
      "image/png": "[encoded data removed]",
      "text/plain": [
       "<Figure size 432x288 with 1 Axes>"
      ]
     },
     "metadata": {
      "needs_background": "light"
     },
     "output_type": "display_data"
    }
   ],
   "source": [
    "sns.heatmap(ipl_data.isnull(),yticklabels=False,cbar=False,cmap='viridis')"
   ]
  },
  {
   "cell_type": "markdown",
   "metadata": {},
   "source": [
    "After removing the umpire3 column we observe that other columns don't have much missing values thus we can continue our analysis from the modified dataset"
   ]
  },
  {
   "cell_type": "markdown",
   "metadata": {},
   "source": [
    "### Most successful teams\n",
    "\n",
    "Now let us start our analysis by first finding which is the most successful team in ipl history."
   ]
  },
  {
   "cell_type": "code",
   "execution_count": 8,
   "metadata": {},
   "outputs": [
    {
     "data": {
      "text/plain": [
       "season  winner                     \n",
       "2008    Rajasthan Royals               13\n",
       "        Kings XI Punjab                10\n",
       "        Chennai Super Kings             9\n",
       "        Delhi Daredevils                7\n",
       "        Mumbai Indians                  7\n",
       "                                       ..\n",
       "2019    Kings XI Punjab                 6\n",
       "        Kolkata Knight Riders           6\n",
       "        Sunrisers Hyderabad             6\n",
       "        Rajasthan Royals                5\n",
       "        Royal Challengers Bangalore     5\n",
       "Name: winner, Length: 100, dtype: int64"
      ]
     },
     "execution_count": 8,
     "metadata": {},
     "output_type": "execute_result"
    }
   ],
   "source": [
    "team_performance_seasonwise = ipl_data.groupby('season')['winner'].value_counts()\n",
    "team_performance_seasonwise"
   ]
  },
  {
   "cell_type": "code",
   "execution_count": 9,
   "metadata": {},
   "outputs": [
    {
     "name": "stdout",
     "output_type": "stream",
     "text": [
      "{'Rajasthan Royals': 75, 'Kings XI Punjab': 82, 'Chennai Super Kings': 100, 'Delhi Daredevils': 67, 'Mumbai Indians': 109, 'Kolkata Knight Riders': 92, 'Royal Challengers Bangalore': 84, 'Deccan Chargers': 29, 'Kochi Tuskers Kerala': 6, 'Pune Warriors': 12, 'Sunrisers Hyderabad': 58, 'Gujarat Lions': 13, 'Rising Pune Supergiants': 5, 'Rising Pune Supergiant': 10, 'Delhi Capitals': 10}\n"
     ]
    }
   ],
   "source": [
    "d_victory={}\n",
    "for i, v in team_performance_seasonwise.iteritems():\n",
    "    if i[1] in d_victory:\n",
    "        d_victory[i[1]]+=v\n",
    "    else:\n",
    "        d_victory[i[1]]=v\n",
    "print(d_victory)"
   ]
  },
  {
   "cell_type": "markdown",
   "metadata": {},
   "source": [
    "Now there are few important corrections to be performed.\n",
    "\n",
    "1.The team Delhi Daredevils have been renamed to delhi capitals thus it is important to change the name of the team in data set.\n",
    "\n",
    "2.In the data name of Rising Pune Supergiants team has been mentioned different in the different seasons so it would be advisable to rename it to a common name."
   ]
  },
  {
   "cell_type": "code",
   "execution_count": 10,
   "metadata": {},
   "outputs": [],
   "source": [
    "ipl_data.replace('Delhi Daredevils','Delhi Capitals',regex=True,inplace=True)"
   ]
  },
  {
   "cell_type": "code",
   "execution_count": 11,
   "metadata": {},
   "outputs": [],
   "source": [
    "ipl_data.replace('Rising Pune Supergiants','Rising Pune Supergiant',regex=True,inplace=True)"
   ]
  },
  {
   "cell_type": "code",
   "execution_count": 12,
   "metadata": {},
   "outputs": [
    {
     "data": {
      "text/plain": [
       "season  winner                     \n",
       "2008    Rajasthan Royals               13\n",
       "        Kings XI Punjab                10\n",
       "        Chennai Super Kings             9\n",
       "        Delhi Capitals                  7\n",
       "        Mumbai Indians                  7\n",
       "                                       ..\n",
       "2019    Kings XI Punjab                 6\n",
       "        Kolkata Knight Riders           6\n",
       "        Sunrisers Hyderabad             6\n",
       "        Rajasthan Royals                5\n",
       "        Royal Challengers Bangalore     5\n",
       "Name: winner, Length: 100, dtype: int64"
      ]
     },
     "execution_count": 12,
     "metadata": {},
     "output_type": "execute_result"
    }
   ],
   "source": [
    "team_performance_seasonwise = ipl_data.groupby('season')['winner'].value_counts()\n",
    "team_performance_seasonwise"
   ]
  },
  {
   "cell_type": "code",
   "execution_count": 13,
   "metadata": {},
   "outputs": [
    {
     "name": "stdout",
     "output_type": "stream",
     "text": [
      "{'Rajasthan Royals': 75, 'Kings XI Punjab': 82, 'Chennai Super Kings': 100, 'Delhi Capitals': 77, 'Mumbai Indians': 109, 'Kolkata Knight Riders': 92, 'Royal Challengers Bangalore': 84, 'Deccan Chargers': 29, 'Kochi Tuskers Kerala': 6, 'Pune Warriors': 12, 'Sunrisers Hyderabad': 58, 'Gujarat Lions': 13, 'Rising Pune Supergiant': 15}\n"
     ]
    }
   ],
   "source": [
    "d_victory={}\n",
    "for i, v in team_performance_seasonwise.iteritems():\n",
    "    if i[1] in d_victory:\n",
    "        d_victory[i[1]]+=v\n",
    "    else:\n",
    "        d_victory[i[1]]=v\n",
    "print(d_victory)                  #number of matches won by each team"
   ]
  },
  {
   "cell_type": "code",
   "execution_count": 14,
   "metadata": {},
   "outputs": [
    {
     "name": "stdout",
     "output_type": "stream",
     "text": [
      "{'Sunrisers Hyderabad': 108, 'Mumbai Indians': 187, 'Gujarat Lions': 30, 'Rising Pune Supergiant': 30, 'Royal Challengers Bangalore': 180, 'Kolkata Knight Riders': 178, 'Delhi Capitals': 177, 'Kings XI Punjab': 176, 'Chennai Super Kings': 164, 'Rajasthan Royals': 147, 'Deccan Chargers': 75, 'Kochi Tuskers Kerala': 14, 'Pune Warriors': 46}\n"
     ]
    }
   ],
   "source": [
    "d_total={}\n",
    "for i in ipl_data['team1']:\n",
    "    if i in d_total:\n",
    "        d_total[i]+=1\n",
    "    else:\n",
    "        d_total[i]=1\n",
    "for i in ipl_data['team2']:\n",
    "    if i in d_total:\n",
    "        d_total[i]+=1\n",
    "    else:\n",
    "        d_total[i]=1 \n",
    "print(d_total)                       #total number of matches played"
   ]
  },
  {
   "cell_type": "markdown",
   "metadata": {},
   "source": [
    "I have considered \"win percentage\" of the teams as an criteria to decide the best team for my project.\n",
    "\n",
    "The main reason is that consistency is very crucial paramter for a successful team and win percentage over matches played in all 12 seasons would tell how consistent the team is.It should also be noted that there are few teams which have not played all the seasons of ipl , so just by the number of matches won we can't decide the best team.\n",
    "\n",
    "Now I have created a data frame and then recorded all the team's win percentages to analyse their performance."
   ]
  },
  {
   "cell_type": "code",
   "execution_count": 15,
   "metadata": {},
   "outputs": [],
   "source": [
    "win_perc_df = pd.DataFrame(columns=['team', 'win_percentage'])\n",
    "for items in d_total:\n",
    "    temp_df = pd.DataFrame({\n",
    "        'team':[items],\n",
    "        'win_percentage':[round(d_victory[items]/d_total[items]*100,2)]\n",
    "    })\n",
    "    win_perc_df = win_perc_df.append(temp_df, ignore_index=True)"
   ]
  },
  {
   "cell_type": "code",
   "execution_count": 16,
   "metadata": {},
   "outputs": [
    {
     "data": {
      "text/html": [
       "<div>\n",
       "<style scoped>\n",
       "    .dataframe tbody tr th:only-of-type {\n",
       "        vertical-align: middle;\n",
       "    }\n",
       "\n",
       "    .dataframe tbody tr th {\n",
       "        vertical-align: top;\n",
       "    }\n",
       "\n",
       "    .dataframe thead th {\n",
       "        text-align: right;\n",
       "    }\n",
       "</style>\n",
       "<table border=\"1\" class=\"dataframe\">\n",
       "  <thead>\n",
       "    <tr style=\"text-align: right;\">\n",
       "      <th></th>\n",
       "      <th>team</th>\n",
       "      <th>win_percentage</th>\n",
       "    </tr>\n",
       "  </thead>\n",
       "  <tbody>\n",
       "    <tr>\n",
       "      <td>0</td>\n",
       "      <td>Sunrisers Hyderabad</td>\n",
       "      <td>53.70</td>\n",
       "    </tr>\n",
       "    <tr>\n",
       "      <td>1</td>\n",
       "      <td>Mumbai Indians</td>\n",
       "      <td>58.29</td>\n",
       "    </tr>\n",
       "    <tr>\n",
       "      <td>2</td>\n",
       "      <td>Gujarat Lions</td>\n",
       "      <td>43.33</td>\n",
       "    </tr>\n",
       "    <tr>\n",
       "      <td>3</td>\n",
       "      <td>Rising Pune Supergiant</td>\n",
       "      <td>50.00</td>\n",
       "    </tr>\n",
       "    <tr>\n",
       "      <td>4</td>\n",
       "      <td>Royal Challengers Bangalore</td>\n",
       "      <td>46.67</td>\n",
       "    </tr>\n",
       "    <tr>\n",
       "      <td>5</td>\n",
       "      <td>Kolkata Knight Riders</td>\n",
       "      <td>51.69</td>\n",
       "    </tr>\n",
       "    <tr>\n",
       "      <td>6</td>\n",
       "      <td>Delhi Capitals</td>\n",
       "      <td>43.50</td>\n",
       "    </tr>\n",
       "    <tr>\n",
       "      <td>7</td>\n",
       "      <td>Kings XI Punjab</td>\n",
       "      <td>46.59</td>\n",
       "    </tr>\n",
       "    <tr>\n",
       "      <td>8</td>\n",
       "      <td>Chennai Super Kings</td>\n",
       "      <td>60.98</td>\n",
       "    </tr>\n",
       "    <tr>\n",
       "      <td>9</td>\n",
       "      <td>Rajasthan Royals</td>\n",
       "      <td>51.02</td>\n",
       "    </tr>\n",
       "    <tr>\n",
       "      <td>10</td>\n",
       "      <td>Deccan Chargers</td>\n",
       "      <td>38.67</td>\n",
       "    </tr>\n",
       "    <tr>\n",
       "      <td>11</td>\n",
       "      <td>Kochi Tuskers Kerala</td>\n",
       "      <td>42.86</td>\n",
       "    </tr>\n",
       "    <tr>\n",
       "      <td>12</td>\n",
       "      <td>Pune Warriors</td>\n",
       "      <td>26.09</td>\n",
       "    </tr>\n",
       "  </tbody>\n",
       "</table>\n",
       "</div>"
      ],
      "text/plain": [
       "                           team  win_percentage\n",
       "0           Sunrisers Hyderabad           53.70\n",
       "1                Mumbai Indians           58.29\n",
       "2                 Gujarat Lions           43.33\n",
       "3        Rising Pune Supergiant           50.00\n",
       "4   Royal Challengers Bangalore           46.67\n",
       "5         Kolkata Knight Riders           51.69\n",
       "6                Delhi Capitals           43.50\n",
       "7               Kings XI Punjab           46.59\n",
       "8           Chennai Super Kings           60.98\n",
       "9              Rajasthan Royals           51.02\n",
       "10              Deccan Chargers           38.67\n",
       "11         Kochi Tuskers Kerala           42.86\n",
       "12                Pune Warriors           26.09"
      ]
     },
     "execution_count": 16,
     "metadata": {},
     "output_type": "execute_result"
    }
   ],
   "source": [
    "win_perc_df"
   ]
  },
  {
   "cell_type": "code",
   "execution_count": 17,
   "metadata": {},
   "outputs": [
    {
     "data": {
      "image/png": "[encoded data removed]",
      "text/plain": [
       "<Figure size 432x288 with 1 Axes>"
      ]
     },
     "metadata": {
      "needs_background": "light"
     },
     "output_type": "display_data"
    }
   ],
   "source": [
    "plt.title(\"Win percentage\")\n",
    "sns.barplot(x='win_percentage', y='team', data=win_perc_df);"
   ]
  },
  {
   "cell_type": "markdown",
   "metadata": {},
   "source": [
    "Therefore the three mos't successful teams are:\n",
    "##### Chennai Super Kings\n",
    "##### Mumbai Indians\n",
    "##### Sunrisers Hyderabad"
   ]
  },
  {
   "cell_type": "markdown",
   "metadata": {},
   "source": [
    "\n",
    "\n",
    "\n",
    "\n",
    "### Most successful players\n",
    "\n",
    "From the data available we have information about the man of the match award won by cricket players of each match.Now we will take the help of that data to identify the best players of this tournament."
   ]
  },
  {
   "cell_type": "code",
   "execution_count": 18,
   "metadata": {},
   "outputs": [],
   "source": [
    "max_player_of_match=ipl_data['player_of_match'].value_counts()"
   ]
  },
  {
   "cell_type": "code",
   "execution_count": 19,
   "metadata": {},
   "outputs": [],
   "source": [
    "top_ten=max_player_of_match.head(10)"
   ]
  },
  {
   "cell_type": "code",
   "execution_count": 20,
   "metadata": {},
   "outputs": [
    {
     "data": {
      "text/plain": [
       "CH Gayle          21\n",
       "AB de Villiers    20\n",
       "MS Dhoni          17\n",
       "DA Warner         17\n",
       "RG Sharma         17\n",
       "YK Pathan         16\n",
       "SR Watson         15\n",
       "SK Raina          14\n",
       "G Gambhir         13\n",
       "MEK Hussey        12\n",
       "Name: player_of_match, dtype: int64"
      ]
     },
     "execution_count": 20,
     "metadata": {},
     "output_type": "execute_result"
    }
   ],
   "source": [
    "top_ten       # top 10 players"
   ]
  },
  {
   "cell_type": "markdown",
   "metadata": {},
   "source": [
    "From the above analysis the most successful players are:\n",
    "##### CH Gayle\n",
    "##### AB de Villiers\n",
    "##### MS Dhoni"
   ]
  },
  {
   "cell_type": "markdown",
   "metadata": {},
   "source": [
    "\n",
    "\n",
    "\n",
    "### Important factors contributing to win or loss of a team\n",
    "\n",
    "now we will consider various factors in a game and see whether they play an important role in win/loss of a team."
   ]
  },
  {
   "cell_type": "markdown",
   "metadata": {},
   "source": [
    "#### 1.Toss\n",
    "\n",
    "Now let's see whether team winning a toss will have an advantage over the other team."
   ]
  },
  {
   "cell_type": "code",
   "execution_count": 21,
   "metadata": {},
   "outputs": [
    {
     "name": "stdout",
     "output_type": "stream",
     "text": [
      "percentage of team winning after winning the toss is 52 %\n"
     ]
    }
   ],
   "source": [
    "win_count = 0\n",
    "total_count=0\n",
    "for index, value in ipl_data.iterrows():\n",
    "    if(value['toss_winner']==value['winner']):\n",
    "        win_count += 1\n",
    "    total_count+=1\n",
    "        \n",
    "print('percentage of team winning after winning the toss is {} %'.format(round((win_count/total_count)*100),2))"
   ]
  },
  {
   "cell_type": "markdown",
   "metadata": {},
   "source": [
    "From the above observation we see that chances of team winning after winning the toss is 52 % which means for a team winning or loosing the toss will not have greater effect on the final result."
   ]
  },
  {
   "cell_type": "markdown",
   "metadata": {},
   "source": [
    "#### 2.Batting First or fielding first\n",
    "\n",
    "Now let's see whether batting first or fielding first will have any impact on the final result"
   ]
  },
  {
   "cell_type": "code",
   "execution_count": 22,
   "metadata": {},
   "outputs": [
    {
     "name": "stdout",
     "output_type": "stream",
     "text": [
      "percentage of team winning batting first is 44.58 %\n",
      "percentage of team winning fielding first is 55.42 %\n"
     ]
    }
   ],
   "source": [
    "won_batting_first=ipl_data[ipl_data['win_by_runs']>0].shape[0]\n",
    "won_fielding_first=ipl_data.shape[0]-won_batting_first\n",
    "\n",
    "percentage_of_team_batting_first_winning=(won_batting_first/ipl_data.shape[0])*100\n",
    "print('percentage of team winning batting first is {} %'.format(round(percentage_of_team_batting_first_winning,2)))\n",
    "print('percentage of team winning fielding first is {} %'.format(round(100-percentage_of_team_batting_first_winning,2)))"
   ]
  },
  {
   "cell_type": "markdown",
   "metadata": {},
   "source": [
    "Now from the above observation we can say that for the team fielding first there is a slight advantage compared to team batting first.\n",
    "\n",
    "This can be understandable as Due factor plays a crucial role in cricket where team batting second get's an advantage over team batting first."
   ]
  },
  {
   "cell_type": "markdown",
   "metadata": {},
   "source": [
    "#### 3.Home Advantage\n",
    "\n",
    "We know that in IPL teams play around 50% of their match in home conditions. For example kolkata knight riders play around 50% of their games in eden gardens in a season.\n",
    "\n",
    "But it should also be known that in few seasons ipl matches were not conducted in india as they were shifted to other countries like UAE and South africa.Even few IPL teams had their home ground in stadiums present in other states.\n",
    "\n",
    "So while doing the analysis I have tried my best to consider these factors. I have used replace function to make changes to the dataframe.I have analysed on selective stadiums but have covered majority of them."
   ]
  },
  {
   "cell_type": "code",
   "execution_count": 23,
   "metadata": {},
   "outputs": [],
   "source": [
    "ipl_data.replace('Bengaluru','Bangalore',regex=True,inplace=True)\n",
    "ipl_data.replace('Visakhapatnam','Hyderabad',regex=True,inplace=True)\n",
    "ipl_data.replace('Mohali','Chandigarh',regex=True,inplace=True)\n",
    "ipl_data.replace('Dharamsala','Chandigarh',regex=True,inplace=True)\n",
    "ipl_data.replace('Ahmedabad','Jaipur',regex=True,inplace=True)\n",
    "ipl_data.replace('Raipur','Delhi',regex=True,inplace=True)\n",
    "ipl_data.replace('Ranchi','Chennai',regex=True,inplace=True)\n",
    "ipl_data.replace('Indore','Chandigarh',regex=True,inplace=True)\n",
    "ipl_data.replace('Nagpur','Hyderabad',regex=True,inplace=True)\n",
    "ipl_data.replace('Kanpur','Rajkot',regex=True,inplace=True)"
   ]
  },
  {
   "cell_type": "code",
   "execution_count": 24,
   "metadata": {},
   "outputs": [
    {
     "data": {
      "text/plain": [
       "Mumbai       101\n",
       "Delhi         80\n",
       "Hyderabad     80\n",
       "Bangalore     80\n",
       "Kolkata       77\n",
       "Name: city, dtype: int64"
      ]
     },
     "execution_count": 24,
     "metadata": {},
     "output_type": "execute_result"
    }
   ],
   "source": [
    "venue=ipl_data['city'].value_counts()\n",
    "d_venues={'Mumbai Indians':'Mumbai','Kolkata Knight Riders':'Kolkata','Delhi Capitals':'Delhi','Royal Challengers Bangalore':'Bangalore',\n",
    "         'Sunrisers Hyderabad':'Hyderabad','Chennai Super Kings':'Chennai','Rajasthan Royals':'Jaipur','Kings XI Punjab':'Chandigarh',\n",
    "         'Rising Pune Supergiant':'Pune','Gujarat Lions':'Rajkot','Kochi Tuskers Kerala':'Kochi','Deccan Chargers':'Hyderabad',\n",
    "         'Pune Warriors':'Pune'}\n",
    "venue.head()"
   ]
  },
  {
   "cell_type": "code",
   "execution_count": 25,
   "metadata": {},
   "outputs": [
    {
     "name": "stdout",
     "output_type": "stream",
     "text": [
      "Home advantage for team:51.34%\n"
     ]
    }
   ],
   "source": [
    "win_count=0\n",
    "no_of_matches_in_considered_venues=672\n",
    "for index, value in ipl_data.iterrows():\n",
    "    if value['winner'] in d_venues:\n",
    "        if(d_venues[value['winner']]==value['city']):\n",
    "            win_count += 1\n",
    "        \n",
    "print('Home advantage for team:{}%'.format(round(win_count/no_of_matches_in_considered_venues*100,2)))"
   ]
  },
  {
   "cell_type": "markdown",
   "metadata": {},
   "source": [
    "It can be noted that in IPL, home ground is not an important factor for win or loss of a team."
   ]
  },
  {
   "cell_type": "code",
   "execution_count": null,
   "metadata": {},
   "outputs": [],
   "source": []
  }
 ],
 "metadata": {
  "kernelspec": {
   "display_name": "Python 3",
   "language": "python",
   "name": "python3"
  },
  "language_info": {
   "codemirror_mode": {
    "name": "ipython",
    "version": 3
   },
   "file_extension": ".py",
   "mimetype": "text/x-python",
   "name": "python",
   "nbconvert_exporter": "python",
   "pygments_lexer": "ipython3",
   "version": "3.7.4"
  }
 },
 "nbformat": 4,
 "nbformat_minor": 2
}
